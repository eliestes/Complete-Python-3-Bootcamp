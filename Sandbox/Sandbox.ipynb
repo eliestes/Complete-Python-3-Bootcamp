{
 "cells": [
  {
   "cell_type": "code",
   "execution_count": 7,
   "id": "ac6dc5aa",
   "metadata": {},
   "outputs": [
    {
     "name": "stdout",
     "output_type": "stream",
     "text": [
      "2\n",
      "4\n",
      "6\n",
      "8\n"
     ]
    }
   ],
   "source": [
    "mylist = [1,2,3,4,5,6,7,8,9]\n",
    "for item in mylist:\n",
    "    if item % 2 == 0:\n",
    "        print(item)"
   ]
  },
  {
   "cell_type": "code",
   "execution_count": 24,
   "id": "01d55719",
   "metadata": {},
   "outputs": [],
   "source": [
    "def myfunc(word):\n",
    "    result = ''\n",
    "    for letter in word:\n",
    "        if word.index(letter) % 2 != 0:\n",
    "            print(\"{}({}) => {}\".format(letter, word.index(letter), letter.upper()))\n",
    "            result += letter.upper()\n",
    "        else:\n",
    "            print(\"{}({}) => {}\".format(letter, word.index(letter), letter.lower()))\n",
    "            result += letter.lower()\n",
    "    return result"
   ]
  },
  {
   "cell_type": "code",
   "execution_count": 25,
   "id": "368db747",
   "metadata": {},
   "outputs": [
    {
     "name": "stdout",
     "output_type": "stream",
     "text": [
      "A(0) => a\n",
      "n(1) => N\n",
      "t(2) => t\n",
      "h(3) => H\n",
      "r(4) => r\n",
      "o(5) => O\n",
      "p(6) => p\n",
      "o(5) => O\n",
      "m(8) => m\n",
      "o(5) => O\n",
      "r(4) => r\n",
      "p(6) => p\n",
      "h(3) => H\n",
      "i(13) => I\n",
      "s(14) => s\n",
      "m(8) => m\n"
     ]
    },
    {
     "data": {
      "text/plain": [
       "'aNtHrOpOmOrpHIsm'"
      ]
     },
     "execution_count": 25,
     "metadata": {},
     "output_type": "execute_result"
    }
   ],
   "source": [
    "myfunc('Anthropomorphism')"
   ]
  },
  {
   "cell_type": "code",
   "execution_count": 10,
   "id": "2e57c7e1",
   "metadata": {},
   "outputs": [
    {
     "name": "stdout",
     "output_type": "stream",
     "text": [
      "0\n"
     ]
    }
   ],
   "source": [
    "word = 'abalone'\n",
    "for letter in word.split():\n",
    "    print(word.index(letter))"
   ]
  },
  {
   "cell_type": "code",
   "execution_count": 11,
   "id": "44d259b9",
   "metadata": {},
   "outputs": [
    {
     "data": {
      "text/plain": [
       "['abalone']"
      ]
     },
     "execution_count": 11,
     "metadata": {},
     "output_type": "execute_result"
    }
   ],
   "source": [
    "word.split()"
   ]
  },
  {
   "cell_type": "code",
   "execution_count": null,
   "id": "143cea98",
   "metadata": {},
   "outputs": [],
   "source": []
  }
 ],
 "metadata": {
  "kernelspec": {
   "display_name": "Python 3 (ipykernel)",
   "language": "python",
   "name": "python3"
  },
  "language_info": {
   "codemirror_mode": {
    "name": "ipython",
    "version": 3
   },
   "file_extension": ".py",
   "mimetype": "text/x-python",
   "name": "python",
   "nbconvert_exporter": "python",
   "pygments_lexer": "ipython3",
   "version": "3.9.13"
  }
 },
 "nbformat": 4,
 "nbformat_minor": 5
}
